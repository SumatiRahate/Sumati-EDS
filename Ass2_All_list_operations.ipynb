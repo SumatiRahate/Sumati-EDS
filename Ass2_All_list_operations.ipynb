{
  "nbformat": 4,
  "nbformat_minor": 0,
  "metadata": {
    "colab": {
      "provenance": [],
      "authorship_tag": "ABX9TyMefzwDouIWMHvoHj75Uh57",
      "include_colab_link": true
    },
    "kernelspec": {
      "name": "python3",
      "display_name": "Python 3"
    },
    "language_info": {
      "name": "python"
    }
  },
  "cells": [
    {
      "cell_type": "markdown",
      "metadata": {
        "id": "view-in-github",
        "colab_type": "text"
      },
      "source": [
        "<a href=\"https://colab.research.google.com/github/SumatiRahate/Sumati-EDS/blob/main/Ass2_All_list_operations.ipynb\" target=\"_parent\"><img src=\"https://colab.research.google.com/assets/colab-badge.svg\" alt=\"Open In Colab\"/></a>"
      ]
    },
    {
      "cell_type": "code",
      "execution_count": null,
      "metadata": {
        "id": "H4jMZ8Vmu5u2",
        "colab": {
          "base_uri": "https://localhost:8080/"
        },
        "outputId": "29254b3a-c412-4847-9126-0ec93843fe1d"
      },
      "outputs": [
        {
          "output_type": "stream",
          "name": "stdout",
          "text": [
            "<class 'tuple'>\n",
            "\n",
            "Companies\n",
            " ['PepsiCo India', 'Coca-cola India', 'Red Bull', 'PepsiCo India', 'String Bio', 'PepsiCo India', 'Red Bull', 'Coca-cola India', 'PepsiCo India', 'RK India']\n",
            "Product Details\n",
            " ['Pepsic drink', 'Sprite', 'RB', 'Pepsic drink', 'String', 'Pepsic drink', 'RB', 'Sprite', 'Pepsic drink', 'Nimbu pani']\n",
            "Consumer Details\n",
            " ('Siddhi Kiwale', 'Yash Kore', 'Kaustub Mahajan', 'Sanket Meshram', 'Siddhi Kiwale', 'Kaustub Mahajan', 'Kaustub Mahajan', 'Sanket Meshram', 'Yash Kore', 'Kaustub Mahajan')\n",
            "Supplier Details\n",
            " {'Mr.Mali': 'Pepsic drink', 'Mr.Aboeroy': 'Sprite', 'Mrs.Roy': 'RB', 'Mr.Tikle': 'String', 'Mr. Teli': 'Nimbu pani'}\n",
            "Gender Details\n",
            " {'Siddhi Kiwale': 'Female', 'Yash Kore': 'Male', 'Kaustub Mahajan': 'Male', 'Sanket Meshram': 'Male'}\n",
            "Residence Details\n",
            " {'U.S\\n': 'Siddhi Kiwale', 'Canada\\n': 'Yash Kore', 'India\\n': 'Kaustub Mahajan', 'Germany\\n': 'Sanket Meshram', 'Nepal\\n': 'Kaustub Mahajan'}"
          ]
        }
      ],
      "source": [
        "company=[]\n",
        "product_details=[]\n",
        "supplier_details=dict()\n",
        "customer_details=[]\n",
        "gender={}\n",
        "residence={}\n",
        "\n",
        "fp1=open(\"/content/Practical_350.csv\",\"r\")\n",
        "data=fp1.readline()\n",
        "\n",
        "while(True):\n",
        "\n",
        "  data=fp1.readline()\n",
        "  if not data:\n",
        "    break;\n",
        "  #print(data)\n",
        "  #data=data.replace(\"\\n\",\"\")\n",
        "  temp=data.split(\",\")\n",
        "  company.append(temp[0])\n",
        "  product_details.append(temp[1])\n",
        "  customer_details.append(temp[3])\n",
        "  supplier_details.update({temp[2]:temp[1]})\n",
        "  gender.update({temp[3]:temp[4]})\n",
        "  residence.update({temp[5]:temp[3]})\n",
        "\n",
        "fp1.close()\n",
        "\n",
        "customer_details=tuple(customer_details)\n",
        "print(type(customer_details))\n",
        "\n",
        "print(\"\\nCompanies\\n\",company,end=\"\")\n",
        "print(\"\\nProduct Details\\n\",product_details,end=\"\")\n",
        "print(\"\\nConsumer Details\\n\",customer_details,end=\"\")\n",
        "print(\"\\nSupplier Details\\n\",supplier_details,end=\"\")\n",
        "print(\"\\nGender Details\\n\",gender,end=\"\")\n",
        "print(\"\\nResidence Details\\n\",residence,end=\"\")\n",
        "\n",
        "\n",
        "\n",
        "\n"
      ]
    },
    {
      "cell_type": "code",
      "source": [
        "#1 Most popular company\n",
        "frequency={}\n",
        "for item in company:\n",
        "  if item in frequency:\n",
        "    frequency[item] += 1\n",
        "  else:\n",
        "    frequency[item]=1\n",
        "\n",
        "\n",
        "print(frequency)\n",
        "marklist=sorted(frequency.items(),key=lambda x:x[1],reverse=True)\n",
        "sortdict=dict(marklist)\n",
        "print(sortdict)\n",
        "print(\"The most popular Company\",list(sortdict.keys())[0],\"i.e\",list(sortdict.values())[0],\"times in a list\")"
      ],
      "metadata": {
        "colab": {
          "base_uri": "https://localhost:8080/"
        },
        "id": "hIu_v7aGSKgp",
        "outputId": "a2d75369-13e8-4996-9e50-0d11cb47a4d9"
      },
      "execution_count": null,
      "outputs": [
        {
          "output_type": "stream",
          "name": "stdout",
          "text": [
            "{'PepsiCo India': 4, 'Coca-cola India': 2, 'Red Bull': 2, 'String Bio': 1, 'RK India': 1}\n",
            "{'PepsiCo India': 4, 'Coca-cola India': 2, 'Red Bull': 2, 'String Bio': 1, 'RK India': 1}\n",
            "The most popular Company PepsiCo India i.e 4 times in a list\n"
          ]
        }
      ]
    },
    {
      "cell_type": "code",
      "source": [
        "#2 Most popular product\n",
        "frequency={}\n",
        "for item in product_details:\n",
        "  if item in frequency:\n",
        "    frequency[item] += 1\n",
        "  else:\n",
        "    frequency[item]=1\n",
        "\n",
        "\n",
        "print(frequency)\n",
        "marklist=sorted(frequency.items(),key=lambda x:x[1],reverse=True)\n",
        "sortdict=dict(marklist)\n",
        "print(sortdict)\n",
        "print(\"The most popular product for sales\",list(sortdict.keys())[0],\"sold\",list(sortdict.values())[0],\"times\")"
      ],
      "metadata": {
        "colab": {
          "base_uri": "https://localhost:8080/"
        },
        "id": "ibVKUDeoDm-3",
        "outputId": "c52fc699-4a6d-4788-8623-cb2be81208c5"
      },
      "execution_count": null,
      "outputs": [
        {
          "output_type": "stream",
          "name": "stdout",
          "text": [
            "{'Pepsic drink': 4, 'Sprite': 2, 'RB': 2, 'String': 1, 'Nimbu pani': 1}\n",
            "{'Pepsic drink': 4, 'Sprite': 2, 'RB': 2, 'String': 1, 'Nimbu pani': 1}\n",
            "The most popular product for sales Pepsic drink sold 4 times\n"
          ]
        }
      ]
    },
    {
      "cell_type": "code",
      "source": [
        "#3Least popular product\n",
        "frequency={}\n",
        "for item in product_details:\n",
        "  if item in frequency:\n",
        "    frequency[item] += 1\n",
        "  else:\n",
        "    frequency[item]=1\n",
        "\n",
        "\n",
        "print(frequency)\n",
        "marklist=sorted(frequency.items(),key=lambda x:x[1])\n",
        "sortdict=dict(marklist)\n",
        "print(sortdict)\n",
        "print(\"The least popular product for sales\",list(sortdict.keys())[0],\"sold\",list(sortdict.values())[0],\"times\")"
      ],
      "metadata": {
        "colab": {
          "base_uri": "https://localhost:8080/"
        },
        "id": "RqpPijwvDnKl",
        "outputId": "f8047045-f664-48c7-c8d7-00f48dc352c5"
      },
      "execution_count": null,
      "outputs": [
        {
          "output_type": "stream",
          "name": "stdout",
          "text": [
            "{'Pepsic drink': 4, 'Sprite': 2, 'RB': 2, 'String': 1, 'Nimbu pani': 1}\n",
            "{'String': 1, 'Nimbu pani': 1, 'Sprite': 2, 'RB': 2, 'Pepsic drink': 4}\n",
            "The least popular product for sales String sold 1 times\n"
          ]
        }
      ]
    },
    {
      "cell_type": "code",
      "source": [
        "#4 Most popular supplier\n",
        "frequency={}\n",
        "for item in supplier_details:\n",
        "  if item in frequency:\n",
        "    frequency[item] += 1\n",
        "  else:\n",
        "    frequency[item]=1\n",
        "\n",
        "\n",
        "print(frequency)\n",
        "marklist=sorted(frequency.items(),key=lambda x:x[1],reverse=True)\n",
        "sortdict=dict(marklist)\n",
        "print(sortdict)\n",
        "print(\"The most popular supplier for sales\",list(sortdict.keys())[0],\"sold\",list(supplier_details.values())[0],\"most\")"
      ],
      "metadata": {
        "colab": {
          "base_uri": "https://localhost:8080/"
        },
        "id": "L6mwliR5FOu8",
        "outputId": "09dcda29-77bd-4550-96eb-69e59b3c32d9"
      },
      "execution_count": null,
      "outputs": [
        {
          "output_type": "stream",
          "name": "stdout",
          "text": [
            "{'Mr.Mali': 1, 'Mr.Aboeroy': 1, 'Mrs.Roy': 1, 'Mr.Tikle': 1, 'Mr. Teli': 1}\n",
            "{'Mr.Mali': 1, 'Mr.Aboeroy': 1, 'Mrs.Roy': 1, 'Mr.Tikle': 1, 'Mr. Teli': 1}\n",
            "The most popular supplier for sales Mr.Mali sold Pepsic drink most\n"
          ]
        }
      ]
    },
    {
      "cell_type": "code",
      "source": [
        "# 5 Least popular supplier\n",
        "frequency={}\n",
        "for item in supplier_details:\n",
        "  if item in frequency:\n",
        "    frequency[item] += 1\n",
        "  else:\n",
        "    frequency[item]=1\n",
        "\n",
        "\n",
        "print(frequency)\n",
        "marklist=sorted(frequency.items(),key=lambda x:x[1])\n",
        "sortdict=dict(marklist)\n",
        "print(sortdict)\n",
        "print(\"The least popular supplier for sales\",list(sortdict.keys())[4],\"sold\",list(supplier_details.values())[0],\"least\")"
      ],
      "metadata": {
        "colab": {
          "base_uri": "https://localhost:8080/"
        },
        "id": "Wy7OYPIDFOya",
        "outputId": "a36548dd-fb69-4f8d-ce1f-92055fa53f65"
      },
      "execution_count": null,
      "outputs": [
        {
          "output_type": "stream",
          "name": "stdout",
          "text": [
            "{'Mr.Mali': 1, 'Mr.Aboeroy': 1, 'Mrs.Roy': 1, 'Mr.Tikle': 1, 'Mr. Teli': 1}\n",
            "{'Mr.Mali': 1, 'Mr.Aboeroy': 1, 'Mrs.Roy': 1, 'Mr.Tikle': 1, 'Mr. Teli': 1}\n",
            "The least popular supplier for sales Mr. Teli sold Pepsic drink least\n"
          ]
        }
      ]
    },
    {
      "cell_type": "code",
      "source": [
        "#6 Most popular country\n",
        "frequency={}\n",
        "for item in residence:\n",
        "  if item in frequency:\n",
        "    frequency[item] += 1\n",
        "  else:\n",
        "    frequency[item]=1\n",
        "\n",
        "\n",
        "print(frequency)\n",
        "marklist=sorted(frequency.items(),key=lambda x:x[1],reverse=True)\n",
        "sortdict=dict(marklist)\n",
        "print(sortdict)\n",
        "print(\"The most product buying country is \",list(sortdict.keys())[0])"
      ],
      "metadata": {
        "colab": {
          "base_uri": "https://localhost:8080/"
        },
        "id": "Ll_X3XDdFO1c",
        "outputId": "42fb76ee-ebc9-4ecc-b0fb-07dcae875d99"
      },
      "execution_count": null,
      "outputs": [
        {
          "output_type": "stream",
          "name": "stdout",
          "text": [
            "{'U.S\\n': 1, 'Canada\\n': 1, 'India\\n': 1, 'Germany\\n': 1, 'Nepal\\n': 1}\n",
            "{'U.S\\n': 1, 'Canada\\n': 1, 'India\\n': 1, 'Germany\\n': 1, 'Nepal\\n': 1}\n",
            "The most product buying country is  U.S\n",
            "\n"
          ]
        }
      ]
    },
    {
      "cell_type": "code",
      "source": [
        "#7 least popular country\n",
        "frequency={}\n",
        "for item in residence:\n",
        "  if item in frequency:\n",
        "    frequency[item] += 1\n",
        "  else:\n",
        "    frequency[item]=1\n",
        "\n",
        "\n",
        "print(frequency)\n",
        "marklist=sorted(frequency.items(),key=lambda x:x[1])\n",
        "sortdict=dict(marklist)\n",
        "print(sortdict)\n",
        "print(\"The least product buying country is \",list(sortdict.keys())[0])"
      ],
      "metadata": {
        "id": "R-5mQJkfFO4z",
        "colab": {
          "base_uri": "https://localhost:8080/",
          "height": 235
        },
        "outputId": "24f8b0e9-3883-4f39-a6df-46def31bb58f"
      },
      "execution_count": null,
      "outputs": [
        {
          "output_type": "error",
          "ename": "NameError",
          "evalue": "ignored",
          "traceback": [
            "\u001b[0;31m---------------------------------------------------------------------------\u001b[0m",
            "\u001b[0;31mNameError\u001b[0m                                 Traceback (most recent call last)",
            "\u001b[0;32m<ipython-input-5-74507565941c>\u001b[0m in \u001b[0;36m<cell line: 3>\u001b[0;34m()\u001b[0m\n\u001b[1;32m      1\u001b[0m \u001b[0;31m#7 least popular country\u001b[0m\u001b[0;34m\u001b[0m\u001b[0;34m\u001b[0m\u001b[0m\n\u001b[1;32m      2\u001b[0m \u001b[0mfrequency\u001b[0m\u001b[0;34m=\u001b[0m\u001b[0;34m{\u001b[0m\u001b[0;34m}\u001b[0m\u001b[0;34m\u001b[0m\u001b[0;34m\u001b[0m\u001b[0m\n\u001b[0;32m----> 3\u001b[0;31m \u001b[0;32mfor\u001b[0m \u001b[0mitem\u001b[0m \u001b[0;32min\u001b[0m \u001b[0mresidence\u001b[0m\u001b[0;34m:\u001b[0m\u001b[0;34m\u001b[0m\u001b[0;34m\u001b[0m\u001b[0m\n\u001b[0m\u001b[1;32m      4\u001b[0m   \u001b[0;32mif\u001b[0m \u001b[0mitem\u001b[0m \u001b[0;32min\u001b[0m \u001b[0mfrequency\u001b[0m\u001b[0;34m:\u001b[0m\u001b[0;34m\u001b[0m\u001b[0;34m\u001b[0m\u001b[0m\n\u001b[1;32m      5\u001b[0m     \u001b[0mfrequency\u001b[0m\u001b[0;34m[\u001b[0m\u001b[0mitem\u001b[0m\u001b[0;34m]\u001b[0m \u001b[0;34m+=\u001b[0m \u001b[0;36m1\u001b[0m\u001b[0;34m\u001b[0m\u001b[0;34m\u001b[0m\u001b[0m\n",
            "\u001b[0;31mNameError\u001b[0m: name 'residence' is not defined"
          ]
        }
      ]
    },
    {
      "cell_type": "code",
      "source": [
        "#8 NUMBER OF Males\n",
        "from collections import Counter\n",
        "counter = dict(Counter(customer_details))\n",
        "names=list(counter.keys())\n",
        "print(names)\n",
        "male=0\n",
        "\n",
        "\n",
        "for name in names:\n",
        "  if gender[name]==\"Male\":\n",
        "    male=male+1\n",
        "\n",
        "\n",
        "print(\"Total Consumers are \\n\")\n",
        "print(\"Total no. of Males\",male)\n"
      ],
      "metadata": {
        "id": "JSM8Ra0EFPDC",
        "colab": {
          "base_uri": "https://localhost:8080/"
        },
        "outputId": "124a261f-8751-45c9-bf58-1391318e6383"
      },
      "execution_count": null,
      "outputs": [
        {
          "output_type": "stream",
          "name": "stdout",
          "text": [
            "['Siddhi Kiwale', 'Yash Kore', 'Kaustub Mahajan', 'Sanket Meshram']\n",
            "Total Consumers are \n",
            "\n",
            "Total no. of Males 3\n"
          ]
        }
      ]
    },
    {
      "cell_type": "code",
      "source": [
        "#9 NUMBER OF FEMALES\n",
        "from collections import Counter\n",
        "counter = dict(Counter(customer_details))\n",
        "names=list(counter.keys())\n",
        "print(names)\n",
        "female=0\n",
        "\n",
        "for name in names:\n",
        "  if gender[name]==\"Female\":\n",
        "    female+=1\n",
        "\n",
        "print(\"Total Consumers are \\n\")\n",
        "print(\"Total no. of Females\",female)"
      ],
      "metadata": {
        "id": "8-fcqUCDFPGc",
        "colab": {
          "base_uri": "https://localhost:8080/"
        },
        "outputId": "3e8cdd37-e656-4733-f42e-ffb071ef5405"
      },
      "execution_count": null,
      "outputs": [
        {
          "output_type": "stream",
          "name": "stdout",
          "text": [
            "['Siddhi Kiwale', 'Yash Kore', 'Kaustub Mahajan', 'Sanket Meshram']\n",
            "Total Consumers are \n",
            "\n",
            "Total no. of Females 1\n"
          ]
        }
      ]
    },
    {
      "cell_type": "code",
      "source": [
        "#10 Most popular Consumer\n",
        "frequency={}\n",
        "for item in customer_details:\n",
        "  if item in frequency:\n",
        "    frequency[item] += 1\n",
        "  else:\n",
        "    frequency[item]=1\n",
        "\n",
        "\n",
        "print(frequency)\n",
        "marklist=sorted(frequency.items(),key=lambda x:x[1],reverse=True)\n",
        "sortdict=dict(marklist)\n",
        "print(sortdict)\n",
        "print(\"The most popular costumer for sales\",list(sortdict.keys())[0],\"puschased\",list(sortdict.values())[0],\"products\")"
      ],
      "metadata": {
        "id": "Lk8hbJn-DnYW",
        "colab": {
          "base_uri": "https://localhost:8080/"
        },
        "outputId": "9feec314-1640-4c20-a430-0a28ff2663e4"
      },
      "execution_count": null,
      "outputs": [
        {
          "output_type": "stream",
          "name": "stdout",
          "text": [
            "{'Siddhi Kiwale': 2, 'Yash Kore': 2, 'Kaustub Mahajan': 3, 'Sanket Meshram': 2}\n",
            "{'Kaustub Mahajan': 3, 'Siddhi Kiwale': 2, 'Yash Kore': 2, 'Sanket Meshram': 2}\n",
            "The most popular costumer for sales Kaustub Mahajan puschased 3 products\n"
          ]
        }
      ]
    },
    {
      "cell_type": "code",
      "source": [],
      "metadata": {
        "id": "gTGhCaagDnmy"
      },
      "execution_count": null,
      "outputs": []
    },
    {
      "cell_type": "code",
      "source": [],
      "metadata": {
        "id": "U16dYebBDhBl"
      },
      "execution_count": null,
      "outputs": []
    }
  ]
}